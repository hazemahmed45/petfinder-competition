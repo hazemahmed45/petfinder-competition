{
 "cells": [
  {
   "cell_type": "code",
   "execution_count": 6,
   "metadata": {},
   "outputs": [
    {
     "name": "stdout",
     "output_type": "stream",
     "text": [
      "(7359,)\n"
     ]
    },
    {
     "data": {
      "image/png": "[encoded data removed]",
      "text/plain": [
       "<Figure size 432x288 with 1 Axes>"
      ]
     },
     "metadata": {
      "needs_background": "light"
     },
     "output_type": "display_data"
    }
   ],
   "source": [
    "from dataloaders.regression_dataloader import RandomGeneratorDataset\n",
    "from sklearn.svm import SVR\n",
    "import numpy as np\n",
    "dataset=RandomGeneratorDataset('Dataset/train.csv',38,10,100)\n",
    "dataset.plot_y_hist()"
   ]
  },
  {
   "cell_type": "code",
   "execution_count": 7,
   "metadata": {},
   "outputs": [
    {
     "name": "stdout",
     "output_type": "stream",
     "text": [
      "[[0.2790006 ]\n",
      " [0.23789086]\n",
      " [0.29718801]\n",
      " ...\n",
      " [0.39823325]\n",
      " [0.38692959]\n",
      " [0.64135758]]\n",
      "[0.28 0.24 0.3  ... 0.4  0.39 0.5 ]\n"
     ]
    }
   ],
   "source": [
    "X,Y=[],[]\n",
    "for ii in range(len(dataset)):\n",
    "    i,o =dataset[ii]\n",
    "    X.append(i)\n",
    "    Y.append(o)\n",
    "X=np.array(X).reshape((len(dataset),1))\n",
    "Y=np.array(Y)\n",
    "print(X)\n",
    "print(Y)"
   ]
  },
  {
   "cell_type": "code",
   "execution_count": 8,
   "metadata": {},
   "outputs": [
    {
     "data": {
      "text/plain": [
       "SVR()"
      ]
     },
     "execution_count": 8,
     "metadata": {},
     "output_type": "execute_result"
    }
   ],
   "source": [
    "model=SVR(kernel='sigmoid')\n",
    "model.fit(X,Y)"
   ]
  },
  {
   "cell_type": "code",
   "execution_count": 9,
   "metadata": {},
   "outputs": [
    {
     "name": "stdout",
     "output_type": "stream",
     "text": [
      "[[ 25.60601066 103.90469576  58.35183083  56.36093914  36.35220882\n",
      "   42.2032009   58.16642178   4.74443671  18.6267464   31.78023511\n",
      "   55.64939603  25.11342129  57.03159738 -55.42544599  65.64544953\n",
      "    1.28936878  -4.55574546  69.22016695 -40.45809618 139.88166039]]\n",
      "[0.44960957 0.44960957 0.44960957 0.44960957 0.44960957 0.44960957\n",
      " 0.44960957 0.44960957 0.44960957 0.44960957 0.44960957 0.44960957\n",
      " 0.44960957 0.44960957 0.44960957 0.44960957 0.44960957 0.44960957\n",
      " 0.44960957 0.44960957]\n"
     ]
    }
   ],
   "source": [
    "new_x=np.random.normal(38,50,(20,1))\n",
    "print(new_x.T)\n",
    "print(model.predict(new_x))"
   ]
  },
  {
   "cell_type": "code",
   "execution_count": 5,
   "metadata": {},
   "outputs": [
    {
     "name": "stdout",
     "output_type": "stream",
     "text": [
      "42.772675568626305\n"
     ]
    }
   ],
   "source": [
    "import pandas as pd\n",
    "from sklearn.metrics import mean_squared_error\n",
    "import math\n",
    "target_df=pd.read_csv('Dataset/train.csv')\n",
    "target_df=target_df[['Id','Pawpularity']]\n",
    "pred_batch=np.zeros((10,target_df.shape[0]))\n",
    "for i in range(10):\n",
    "    pred=model.predict(np.random.normal(38,50,(target_df.shape[0],1)))\n",
    "    # pred[pred>65]=100\n",
    "    pred_batch[i,:]= pred\n",
    "df={'Id':target_df['Id'].to_list(),'Pawpularity':pred_batch.mean(axis=0).tolist()}\n",
    "df=pd.DataFrame(df)\n",
    "rmse_val=math.sqrt(mean_squared_error(df['Pawpularity'],target_df['Pawpularity']))\n",
    "print(rmse_val)"
   ]
  },
  {
   "cell_type": "code",
   "execution_count": 55,
   "metadata": {},
   "outputs": [
    {
     "data": {
      "text/plain": [
       "['svr_1.joblib']"
      ]
     },
     "execution_count": 55,
     "metadata": {},
     "output_type": "execute_result"
    }
   ],
   "source": [
    "from joblib import dump, load\n",
    "dump(model, 'svr_1.joblib') \n",
    "# with open('svr.pkl','w')as f:\n",
    "#     pickle.dump(model,f)"
   ]
  },
  {
   "cell_type": "code",
   "execution_count": null,
   "metadata": {},
   "outputs": [],
   "source": []
  }
 ],
 "metadata": {
  "interpreter": {
   "hash": "98e78246e8f4497d5be07d6719d995820c76aa4ad650c739b5e5fde829e2aaed"
  },
  "kernelspec": {
   "display_name": "Python 3.7.11 64-bit ('torch_env': conda)",
   "language": "python",
   "name": "python3"
  },
  "language_info": {
   "codemirror_mode": {
    "name": "ipython",
    "version": 3
   },
   "file_extension": ".py",
   "mimetype": "text/x-python",
   "name": "python",
   "nbconvert_exporter": "python",
   "pygments_lexer": "ipython3",
   "version": "3.7.11"
  },
  "orig_nbformat": 4
 },
 "nbformat": 4,
 "nbformat_minor": 2
}
